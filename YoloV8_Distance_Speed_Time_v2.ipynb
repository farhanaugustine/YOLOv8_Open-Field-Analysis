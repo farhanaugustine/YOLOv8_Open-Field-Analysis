{
 "cells": [
  {
   "cell_type": "markdown",
   "id": "9fe2ef23",
   "metadata": {},
   "source": [
    "# Import necessary libraries"
   ]
  },
  {
   "cell_type": "code",
   "execution_count": null,
   "id": "dc09d183",
   "metadata": {},
   "outputs": [],
   "source": [
    "%matplotlib notebook\n",
    "import os\n",
    "import re\n",
    "import numpy as np\n",
    "import pandas as pd\n",
    "import seaborn as sns\n",
    "import scipy.stats as stats\n",
    "import matplotlib.pyplot as plt\n",
    "import matplotlib.patches as mpatches\n",
    "from matplotlib.widgets import RectangleSelector"
   ]
  },
  {
   "cell_type": "markdown",
   "id": "22d9348a",
   "metadata": {},
   "source": [
    "# Load txt files generated from YOLOv8"
   ]
  },
  {
   "cell_type": "code",
   "execution_count": null,
   "id": "3fcb666f",
   "metadata": {},
   "outputs": [],
   "source": [
    "# Define the path to the directory containing the txt files\n",
    "txt_dir = r'D:\\YoloV8_Custom_Model\\runs\\detect\\predict\\labels'"
   ]
  },
  {
   "cell_type": "markdown",
   "id": "eef359fd",
   "metadata": {},
   "source": [
    "# Sort txt files"
   ]
  },
  {
   "cell_type": "code",
   "execution_count": null,
   "id": "59c79c18",
   "metadata": {
    "scrolled": true
   },
   "outputs": [],
   "source": [
    "# Get a list of all txt files in the directory\n",
    "txt_files = [f for f in os.listdir(txt_dir) if f.endswith('.txt')]\n",
    "\n",
    "# Define a function to extract the frame number from the filename\n",
    "def get_frame_number(filename):\n",
    "    # Use a regular expression to find the frame number\n",
    "    match = re.search(r'_([0-9]+)\\.txt$', filename)\n",
    "    if match:\n",
    "        return int(match.group(1))\n",
    "    else:\n",
    "        return 0\n",
    "\n",
    "# Sort the txt files based on the frame number\n",
    "txt_files.sort(key=get_frame_number)\n",
    "\n",
    "# Print the sorted list of txt files\n",
    "for i, txt_file in enumerate(txt_files[:10]):\n",
    "    print(f\"{i+1}: {txt_file}\")"
   ]
  },
  {
   "cell_type": "markdown",
   "id": "94c1280d",
   "metadata": {},
   "source": [
    "# Calculate Centeroids for the Bounding Boxes"
   ]
  },
  {
   "cell_type": "code",
   "execution_count": null,
   "id": "55ca5763",
   "metadata": {
    "scrolled": false
   },
   "outputs": [],
   "source": [
    "# Initialize lists to store the x and y coordinates of the centroids\n",
    "x_coords = []\n",
    "y_coords = []\n",
    "\n",
    "# Get a list of all txt files in the directory\n",
    "txt_files = sorted([f for f in os.listdir(txt_dir) if f.endswith('.txt')])\n",
    "\n",
    "# Loop over each txt file (each file represents one frame)\n",
    "for txt_file in txt_files:\n",
    "    # Open the txt file\n",
    "    with open(os.path.join(txt_dir, txt_file), 'r') as f:\n",
    "        # Read the lines in the txt file\n",
    "        lines = f.readlines()\n",
    "        \n",
    "        # Loop over each line in the txt file\n",
    "        for line in lines:\n",
    "            # Split the line into components\n",
    "            components = line.strip().split()\n",
    "            \n",
    "            # Parse the bounding box coordinates\n",
    "            x_center = float(components[1])\n",
    "            y_center = float(components[2])\n",
    "            \n",
    "            # Add the centroid coordinates to the lists\n",
    "            x_coords.append(x_center)\n",
    "            y_coords.append(y_center)\n",
    "\n",
    "# Find the maximum y-coordinate\n",
    "max_y = max(y_coords)\n",
    "\n",
    "# Subtract each y-coordinate from the maximum to invert the data\n",
    "y_coords = [max_y - y for y in y_coords]\n",
    "\n",
    "# Plot the x and y coordinates of the centroids\n",
    "fig, ax = plt.subplots(figsize=(10, 6))\n",
    "ax.scatter(x_coords, y_coords, alpha=0.5)\n",
    "\n",
    "# Set the title and labels\n",
    "ax.set_title('Centroid Coordinates')\n",
    "ax.set_xlabel('X Coordinate')\n",
    "ax.set_ylabel('Y Coordinate')\n",
    "\n",
    "# Show the plot\n",
    "plt.show()\n"
   ]
  },
  {
   "cell_type": "markdown",
   "id": "de21337c",
   "metadata": {},
   "source": [
    "# Draw Single or Multiple ROIs for Analysis"
   ]
  },
  {
   "cell_type": "markdown",
   "id": "f73f5bb5",
   "metadata": {},
   "source": [
    "### Name your ROIs in an order (e.g., ROI1, ROI2, ROI3,...). Seperate Each ROI name with a comma ' , '"
   ]
  },
  {
   "cell_type": "code",
   "execution_count": null,
   "id": "56c3e865",
   "metadata": {},
   "outputs": [],
   "source": [
    "# Ask the user to enter the names of the ROIs\n",
    "roi_names = input(\"Name the ROIs (ROI1, ROI2, ROI3,...) \").split(',')\n",
    "\n",
    "# Initialize a dictionary to store the coordinates of the ROIs\n",
    "rois = {name: None for name in roi_names}\n",
    "\n",
    "# Function to be called when the user draws a rectangle\n",
    "def onselect(eclick, erelease):\n",
    "    # Get the coordinates of the rectangle\n",
    "    x1, y1 = eclick.xdata, eclick.ydata\n",
    "    x2, y2 = erelease.xdata, erelease.ydata\n",
    "    \n",
    "    # Find the first ROI without coordinates\n",
    "    for name in roi_names:\n",
    "        if rois[name] is None:\n",
    "            # Store the coordinates in the rois dictionary\n",
    "            rois[name] = ((x1, y1), (x2, y2))\n",
    "            \n",
    "            # Print the coordinates of the ROI\n",
    "            print(f\"{name}: ({x1}, {y1}), ({x2}, {y2})\")\n",
    "            break\n",
    "\n",
    "# Create a new figure and axes\n",
    "fig, ax = plt.subplots()\n",
    "\n",
    "# Plot the centroids\n",
    "ax.scatter(x_coords, y_coords, alpha=0.5)\n",
    "\n",
    "\n",
    "# Create the rectangle selector\n",
    "rs = RectangleSelector(ax, onselect, useblit=True,\n",
    "                       button=[1, 3],  # Use left or right mouse buttons\n",
    "                       minspanx=5, minspany=5, spancoords='pixels',\n",
    "                       interactive=True)\n",
    "\n",
    "# Show the plot\n",
    "plt.show()\n"
   ]
  },
  {
   "cell_type": "markdown",
   "id": "e339985e",
   "metadata": {},
   "source": [
    "# Average Speed & Time Spent in Each ROI"
   ]
  },
  {
   "cell_type": "code",
   "execution_count": null,
   "id": "728eb1c5",
   "metadata": {},
   "outputs": [],
   "source": [
    "# Initialize counters for time spent in each ROI and lists to store speeds in each ROI\n",
    "time_in_rois = [0 for _ in range(len(rois))]\n",
    "speeds_in_rois = [[] for _ in range(len(rois))]\n",
    "\n",
    "# Initialize variables for speed calculation\n",
    "prev_x, prev_y, speed = None, None, 0\n",
    "speeds = []\n",
    "\n",
    "# Loop over each frame\n",
    "for x, y in zip(x_coords, y_coords):  # Use original coordinates here\n",
    "    # Calculate speed\n",
    "    if prev_x is not None and prev_y is not None:\n",
    "        dx = x - prev_x\n",
    "        dy = y - prev_y\n",
    "        speed = np.sqrt(dx**2 + dy**2) * 30  # Multiply by 30 to convert from frames to seconds. Replace with 60 if video is 60fps\n",
    "        speeds.append(speed)\n",
    "\n",
    "    # Check if the centroid is in each ROI\n",
    "    for i, roi in enumerate(rois):\n",
    "        ((x1, y1), (x2, y2)) = rois[roi]\n",
    "        in_roi = x1 <= x <= x2 and y1 <= y <= y2\n",
    "\n",
    "        if in_roi:\n",
    "            # If the object is in the ROI, increment the time counter and add the speed to the list\n",
    "            time_in_rois[i] += 1\n",
    "            speeds_in_rois[i].append(speed)\n",
    "\n",
    "    # Update the previous position\n",
    "    prev_x, prev_y = x, y\n",
    "\n",
    "# Convert time from frames to seconds and calculate average speeds\n",
    "time_in_rois = [t / 30 for t in time_in_rois]\n",
    "avg_speeds_in_rois = [np.mean(s) if s else 0 for s in speeds_in_rois]\n",
    "\n",
    "print(f\"Average Speed: {np.mean(speeds)} units per second\")\n",
    "print(f\"Time Spent in Each ROI: {time_in_rois} seconds\")\n",
    "print(f\"Average Speed in Each ROI: {avg_speeds_in_rois} units per second\")\n"
   ]
  },
  {
   "cell_type": "markdown",
   "id": "457d2bfc",
   "metadata": {},
   "source": [
    "# Entries & Exits Made Per ROI"
   ]
  },
  {
   "cell_type": "markdown",
   "id": "bd3a46fa",
   "metadata": {},
   "source": [
    "### This section of the code smooths the coordinates over user defined window_size (similar to moving average)."
   ]
  },
  {
   "cell_type": "code",
   "execution_count": null,
   "id": "a332c0f5",
   "metadata": {},
   "outputs": [],
   "source": [
    "# Define the smoothing window size\n",
    "window_size = 60  # Adjust this value as needed\n",
    "\n",
    "# Convert the centroid coordinates to a DataFrame\n",
    "df = pd.DataFrame({'x': x_coords, 'y': y_coords})\n",
    "\n",
    "# Apply a rolling window and calculate the mean to smooth the coordinates\n",
    "df['x_smooth'] = df['x'].rolling(window=window_size, min_periods=1).mean()\n",
    "df['y_smooth'] = df['y'].rolling(window=window_size, min_periods=1).mean()\n",
    "\n",
    "# Initialize counters for entries and exits for each ROI\n",
    "entries = [0 for _ in range(len(rois))]\n",
    "exits = [0 for _ in range(len(rois))]\n",
    "\n",
    "# Initialize variables for tracking the object's position\n",
    "prev_x, prev_y = None, None\n",
    "prev_in_rois = [False for _ in range(len(rois))]\n",
    "\n",
    "# Loop over each frame\n",
    "for x, y in zip(df['x_smooth'], df['y_smooth']):\n",
    "    # Check if the centroid is in each ROI\n",
    "    for i, roi in enumerate(rois):\n",
    "        ((x1, y1), (x2, y2)) = rois[roi]\n",
    "        in_roi = x1 <= x <= x2 and y1 <= y <= y2\n",
    "\n",
    "        # If we have a previous position\n",
    "        if prev_x is not None and prev_y is not None:\n",
    "            # If the object has moved from outside the ROI to inside, increment the entries counter\n",
    "            if not prev_in_rois[i] and in_roi:\n",
    "                entries[i] += 1\n",
    "\n",
    "            # If the object has moved from inside the ROI to outside, increment the exits counter\n",
    "            if prev_in_rois[i] and not in_roi:\n",
    "                exits[i] += 1\n",
    "\n",
    "        # Update the previous position and ROI status\n",
    "        prev_x, prev_y = x, y\n",
    "        prev_in_rois[i] = in_roi\n",
    "\n",
    "print(f\"Entries in Each ROI: {entries}\")\n",
    "print(f\"Exits from Each ROI: {exits}\")\n",
    "\n"
   ]
  },
  {
   "cell_type": "markdown",
   "id": "83fc87dc",
   "metadata": {},
   "source": [
    "# Graph Entries/Exits, and First ROI Entered"
   ]
  },
  {
   "cell_type": "code",
   "execution_count": null,
   "id": "a1f1afd4",
   "metadata": {},
   "outputs": [],
   "source": [
    "# Assuming entries is a list of entry counts for each ROI\n",
    "first_entry_roi = roi_names[entries.index(next((e for e in entries if e > 0), 0))]\n",
    "\n",
    "# Create a new figure for the entries bar graph\n",
    "fig1, ax1 = plt.subplots()\n",
    "\n",
    "# Create an array with the positions of each bar along the x-axis\n",
    "x = np.arange(len(rois))\n",
    "\n",
    "# Plot a bar for the entries of each ROI\n",
    "bars = ax1.bar(x, entries, 0.4, label='Entries')\n",
    "\n",
    "# Change the color of the first entry ROI bar to red\n",
    "bars[roi_names.index(first_entry_roi)].set_color('red')\n",
    "\n",
    "# Label the x-axis with the names of the ROIs\n",
    "ax1.set_xticks(x)\n",
    "ax1.set_xticklabels(roi_names)\n",
    "\n",
    "# Add labels and a custom legend\n",
    "ax1.set_xlabel('ROIs')\n",
    "ax1.set_ylabel('Count')\n",
    "ax1.set_title('Entries for Each ROI')\n",
    "red_patch = mpatches.Patch(color='red', label='First Entry')\n",
    "ax1.legend(handles=[red_patch])\n",
    "\n",
    "# Show the plot\n",
    "plt.show()\n",
    "\n",
    "# Create a new figure for the exits bar graph\n",
    "fig2, ax2 = plt.subplots()\n",
    "\n",
    "# Plot a bar for the exits of each ROI\n",
    "ax2.bar(x, exits, 0.4, label='Exits')\n",
    "\n",
    "# Label the x-axis with the names of the ROIs\n",
    "ax2.set_xticks(x)\n",
    "ax2.set_xticklabels(roi_names)\n",
    "\n",
    "# Add labels and a legend\n",
    "ax2.set_xlabel('ROIs')\n",
    "ax2.set_ylabel('Count')\n",
    "ax2.set_title('Exits from Each ROI')\n",
    "ax2.legend()\n",
    "\n",
    "# Show the plot\n",
    "plt.show()\n"
   ]
  },
  {
   "cell_type": "markdown",
   "id": "f1f5f54a",
   "metadata": {},
   "source": [
    "# Time Spent in Each ROI: \n",
    "#### A bar chart to visualize the time spent in each ROI. The x-axis will represent the ROIs and the y-axis will represent the time spent in each ROI."
   ]
  },
  {
   "cell_type": "code",
   "execution_count": null,
   "id": "b8a41fea",
   "metadata": {},
   "outputs": [],
   "source": [
    "# Initialize a list to store the time spent in each ROI\n",
    "time_in_roi = [0 for _ in range(len(rois))]\n",
    "\n",
    "# Loop over each frame\n",
    "for frame, (x, y) in enumerate(zip(df['x_smooth'], df['y_smooth'])):\n",
    "    # Check if the centroid is in each ROI\n",
    "    for i, roi in enumerate(rois):\n",
    "        ((x1, y1), (x2, y2)) = rois[roi]\n",
    "        in_roi = x1 <= x <= x2 and y1 <= y <= y2\n",
    "\n",
    "        # If the object is in the ROI, increment the time counter\n",
    "        if in_roi:\n",
    "            time_in_roi[i] += 1\n",
    "\n",
    "\n",
    "# Frame rate of your video\n",
    "frame_rate = 30\n",
    "\n",
    "# Convert time from frames to seconds\n",
    "time_in_roi_sec = [t / frame_rate for t in time_in_roi]\n",
    "\n",
    "print(f\"Time (sec) Spent in Each ROI: {time_in_roi_sec}\")\n",
    "\n",
    "plt.figure(figsize=(10, 6))\n",
    "plt.bar(roi_names, time_in_roi_sec)\n",
    "plt.xlabel('ROIs')\n",
    "plt.ylabel('Time spent (sec)')\n",
    "plt.title('Time Spent in Each ROI (seconds)')\n",
    "plt.show()\n",
    "print(f\"Time Spent in Each ROI (seconds): {time_in_roi_sec} \")"
   ]
  },
  {
   "cell_type": "markdown",
   "id": "b2c9e636",
   "metadata": {},
   "source": [
    "# Time to First Entery for Each ROI"
   ]
  },
  {
   "cell_type": "code",
   "execution_count": null,
   "id": "7df1d12e",
   "metadata": {},
   "outputs": [],
   "source": [
    "# Frame rate of your video\n",
    "frame_rate = 30\n",
    "\n",
    "# Initialize a list to store the entry times for each ROI\n",
    "first_entry_times = [None for _ in range(len(rois))]\n",
    "\n",
    "# Initialize a list to keep track of whether the object is in each ROI\n",
    "in_roi = [False for _ in range(len(rois))]\n",
    "\n",
    "# Loop over each frame\n",
    "for frame, (x, y) in enumerate(zip(df['x_smooth'], df['y_smooth'])):\n",
    "    # Check if the centroid is in each ROI\n",
    "    for i, roi in enumerate(rois):\n",
    "        ((x1, y1), (x2, y2)) = rois[roi]\n",
    "        currently_in_roi = x1 <= x <= x2 and y1 <= y <= y2\n",
    "\n",
    "        # If the object has just entered the ROI, record the entry time\n",
    "        if currently_in_roi and not in_roi[i] and first_entry_times[i] is None:\n",
    "            first_entry_times[i] = frame\n",
    "\n",
    "        # Update the ROI status\n",
    "        in_roi[i] = currently_in_roi\n",
    "\n",
    "# Convert first entry times from frames to seconds\n",
    "first_entry_times_sec = [t / frame_rate if t is not None else None for t in first_entry_times]\n",
    "\n",
    "for i, first_entry_time in enumerate(first_entry_times_sec):\n",
    "    if first_entry_time is not None:\n",
    "        print(f\"Time to First Entry in ROI {i}: {first_entry_time} seconds\")\n"
   ]
  },
  {
   "cell_type": "code",
   "execution_count": null,
   "id": "83282f95",
   "metadata": {},
   "outputs": [],
   "source": []
  }
 ],
 "metadata": {
  "kernelspec": {
   "display_name": "Python 3 (ipykernel)",
   "language": "python",
   "name": "python3"
  },
  "language_info": {
   "codemirror_mode": {
    "name": "ipython",
    "version": 3
   },
   "file_extension": ".py",
   "mimetype": "text/x-python",
   "name": "python",
   "nbconvert_exporter": "python",
   "pygments_lexer": "ipython3",
   "version": "3.11.5"
  }
 },
 "nbformat": 4,
 "nbformat_minor": 5
}
